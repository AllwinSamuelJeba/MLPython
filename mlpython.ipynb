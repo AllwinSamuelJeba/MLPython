{
 "cells": [
  {
   "cell_type": "markdown",
   "id": "ee2d5810",
   "metadata": {},
   "source": [
    "# Machine Learning, Data Science and Generative AI with Python"
   ]
  },
  {
   "cell_type": "markdown",
   "id": "b60529f7",
   "metadata": {},
   "source": [
    "## Data Type"
   ]
  },
  {
   "cell_type": "markdown",
   "id": "0b3fd74d",
   "metadata": {},
   "source": [
    "* Numerical\n",
    "* Categorical\n",
    "* Ordinal"
   ]
  },
  {
   "cell_type": "markdown",
   "id": "7774ebc7",
   "metadata": {},
   "source": [
    "### Numerical Datatype"
   ]
  },
  {
   "cell_type": "markdown",
   "id": "dd5bd524",
   "metadata": {},
   "source": [
    "Represents quantitative measurements that can be measured.\n",
    "eg. Height of people, stock price etc."
   ]
  },
  {
   "cell_type": "markdown",
   "id": "6041ea93",
   "metadata": {},
   "source": [
    "Numerical data are further subdivided into two types\n",
    "* **Discrete Data** \n",
    "Data that can only take certain values is called discrete data or discrete values. This is data that can be counted and has a limited number of values. It usually comes in the form of whole numbers or integers. These values must fit into certain categories and can't be broken into smaller parts.\n",
    "\n",
    "Example:\n",
    "* The size of your department’s workforce.\n",
    "* How many new clients you brought on board in the previous quarter?\n",
    "* How many items are currently kept in stock?\n",
    "\n",
    "_  \n",
    "      \n",
    "* **Continous Data**\n",
    "Continuous data are those that can be measured. It is conceivable for this data to take on an unlimited number of different values because its values are not fixed. There are smaller, individual components that make up these metrics as well.\n",
    "\n",
    "Example:\n",
    "* An individual’s stature or weight\n",
    "* The temperature daily in your city\n",
    "* How much time is required to finish an activity or project\n"
   ]
  },
  {
   "cell_type": "code",
   "execution_count": null,
   "id": "e0cf0a6b",
   "metadata": {},
   "outputs": [],
   "source": []
  }
 ],
 "metadata": {
  "kernelspec": {
   "display_name": "Python 3 (ipykernel)",
   "language": "python",
   "name": "python3"
  },
  "language_info": {
   "codemirror_mode": {
    "name": "ipython",
    "version": 3
   },
   "file_extension": ".py",
   "mimetype": "text/x-python",
   "name": "python",
   "nbconvert_exporter": "python",
   "pygments_lexer": "ipython3",
   "version": "3.11.5"
  }
 },
 "nbformat": 4,
 "nbformat_minor": 5
}
